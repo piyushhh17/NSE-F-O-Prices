{
 "cells": [
  {
   "cell_type": "code",
   "execution_count": 1,
   "metadata": {},
   "outputs": [],
   "source": [
    "import requests\n",
    "from bs4 import BeautifulSoup\n",
    "import pandas as pd"
   ]
  },
  {
   "cell_type": "code",
   "execution_count": 2,
   "metadata": {},
   "outputs": [],
   "source": [
    "import zipfile"
   ]
  },
  {
   "cell_type": "code",
   "execution_count": 8,
   "metadata": {},
   "outputs": [
    {
     "name": "stderr",
     "output_type": "stream",
     "text": [
      "c:\\Users\\piyush.kaushal\\AppData\\Local\\Programs\\Python\\Python310\\lib\\site-packages\\urllib3\\connectionpool.py:1103: InsecureRequestWarning: Unverified HTTPS request is being made to host 'www.nseindia.com'. Adding certificate verification is strongly advised. See: https://urllib3.readthedocs.io/en/latest/advanced-usage.html#tls-warnings\n",
      "  warnings.warn(\n"
     ]
    }
   ],
   "source": [
    "import requests\n",
    "\n",
    "url = \"https://www.nseindia.com/archives/ird/sett/CDSett_prce_IRF_27052024.csv\"\n",
    "response = requests.get(url, verify=False)\n",
    "\n",
    "# Save the content to a file\n",
    "with open(\"fo26MAY2024bhav.csv.zip\", \"wb\") as f:\n",
    "    f.write(response.content)\n"
   ]
  },
  {
   "cell_type": "code",
   "execution_count": 10,
   "metadata": {},
   "outputs": [
    {
     "ename": "BadZipFile",
     "evalue": "File is not a zip file",
     "output_type": "error",
     "traceback": [
      "\u001b[1;31m---------------------------------------------------------------------------\u001b[0m",
      "\u001b[1;31mBadZipFile\u001b[0m                                Traceback (most recent call last)",
      "Cell \u001b[1;32mIn[10], line 1\u001b[0m\n\u001b[1;32m----> 1\u001b[0m \u001b[38;5;28;01mwith\u001b[39;00m \u001b[43mzipfile\u001b[49m\u001b[38;5;241;43m.\u001b[39;49m\u001b[43mZipFile\u001b[49m\u001b[43m(\u001b[49m\u001b[38;5;124;43m\"\u001b[39;49m\u001b[38;5;124;43mfo26MAY2024bhav.csv.zip\u001b[39;49m\u001b[38;5;124;43m\"\u001b[39;49m\u001b[43m,\u001b[49m\u001b[43m \u001b[49m\u001b[38;5;124;43m\"\u001b[39;49m\u001b[38;5;124;43mr\u001b[39;49m\u001b[38;5;124;43m\"\u001b[39;49m\u001b[43m)\u001b[49m \u001b[38;5;28;01mas\u001b[39;00m zip_ref:\n\u001b[0;32m      2\u001b[0m     zip_ref\u001b[38;5;241m.\u001b[39mextractall()\n",
      "File \u001b[1;32mc:\\Users\\piyush.kaushal\\AppData\\Local\\Programs\\Python\\Python310\\lib\\zipfile.py:1269\u001b[0m, in \u001b[0;36mZipFile.__init__\u001b[1;34m(self, file, mode, compression, allowZip64, compresslevel, strict_timestamps)\u001b[0m\n\u001b[0;32m   1267\u001b[0m \u001b[38;5;28;01mtry\u001b[39;00m:\n\u001b[0;32m   1268\u001b[0m     \u001b[38;5;28;01mif\u001b[39;00m mode \u001b[38;5;241m==\u001b[39m \u001b[38;5;124m'\u001b[39m\u001b[38;5;124mr\u001b[39m\u001b[38;5;124m'\u001b[39m:\n\u001b[1;32m-> 1269\u001b[0m         \u001b[38;5;28;43mself\u001b[39;49m\u001b[38;5;241;43m.\u001b[39;49m\u001b[43m_RealGetContents\u001b[49m\u001b[43m(\u001b[49m\u001b[43m)\u001b[49m\n\u001b[0;32m   1270\u001b[0m     \u001b[38;5;28;01melif\u001b[39;00m mode \u001b[38;5;129;01min\u001b[39;00m (\u001b[38;5;124m'\u001b[39m\u001b[38;5;124mw\u001b[39m\u001b[38;5;124m'\u001b[39m, \u001b[38;5;124m'\u001b[39m\u001b[38;5;124mx\u001b[39m\u001b[38;5;124m'\u001b[39m):\n\u001b[0;32m   1271\u001b[0m         \u001b[38;5;66;03m# set the modified flag so central directory gets written\u001b[39;00m\n\u001b[0;32m   1272\u001b[0m         \u001b[38;5;66;03m# even if no files are added to the archive\u001b[39;00m\n\u001b[0;32m   1273\u001b[0m         \u001b[38;5;28mself\u001b[39m\u001b[38;5;241m.\u001b[39m_didModify \u001b[38;5;241m=\u001b[39m \u001b[38;5;28;01mTrue\u001b[39;00m\n",
      "File \u001b[1;32mc:\\Users\\piyush.kaushal\\AppData\\Local\\Programs\\Python\\Python310\\lib\\zipfile.py:1336\u001b[0m, in \u001b[0;36mZipFile._RealGetContents\u001b[1;34m(self)\u001b[0m\n\u001b[0;32m   1334\u001b[0m     \u001b[38;5;28;01mraise\u001b[39;00m BadZipFile(\u001b[38;5;124m\"\u001b[39m\u001b[38;5;124mFile is not a zip file\u001b[39m\u001b[38;5;124m\"\u001b[39m)\n\u001b[0;32m   1335\u001b[0m \u001b[38;5;28;01mif\u001b[39;00m \u001b[38;5;129;01mnot\u001b[39;00m endrec:\n\u001b[1;32m-> 1336\u001b[0m     \u001b[38;5;28;01mraise\u001b[39;00m BadZipFile(\u001b[38;5;124m\"\u001b[39m\u001b[38;5;124mFile is not a zip file\u001b[39m\u001b[38;5;124m\"\u001b[39m)\n\u001b[0;32m   1337\u001b[0m \u001b[38;5;28;01mif\u001b[39;00m \u001b[38;5;28mself\u001b[39m\u001b[38;5;241m.\u001b[39mdebug \u001b[38;5;241m>\u001b[39m \u001b[38;5;241m1\u001b[39m:\n\u001b[0;32m   1338\u001b[0m     \u001b[38;5;28mprint\u001b[39m(endrec)\n",
      "\u001b[1;31mBadZipFile\u001b[0m: File is not a zip file"
     ]
    }
   ],
   "source": [
    "with zipfile.ZipFile(\"fo26MAY2024bhav.csv.zip\", \"r\") as zip_ref:\n",
    "    zip_ref.extractall()"
   ]
  },
  {
   "cell_type": "code",
   "execution_count": 11,
   "metadata": {},
   "outputs": [
    {
     "name": "stderr",
     "output_type": "stream",
     "text": [
      "c:\\Users\\piyush.kaushal\\AppData\\Local\\Programs\\Python\\Python310\\lib\\site-packages\\urllib3\\connectionpool.py:1103: InsecureRequestWarning: Unverified HTTPS request is being made to host 'www.nseindia.com'. Adding certificate verification is strongly advised. See: https://urllib3.readthedocs.io/en/latest/advanced-usage.html#tls-warnings\n",
      "  warnings.warn(\n"
     ]
    }
   ],
   "source": [
    "# Define the URL\n",
    "url = \"https://www.nseindia.com/market-data/equity-derivatives-watch\"\n",
    "\n",
    "# Send a GET request to the URL\n",
    "response = requests.get(url, verify=False)\n",
    "\n",
    "# Parse the HTML content\n",
    "soup = BeautifulSoup(response.content, 'html.parser')\n",
    "\n",
    "print(soup)\n",
    "\n",
    "# # Find the link to the CSV file\n",
    "# csv_link = soup.find('a', {'id': 'csvContentDiv'})['href']\n",
    "\n",
    "# # Download the CSV file\n",
    "# csv_response = requests.get(csv_link)\n",
    "\n",
    "# # Save the content to a file\n",
    "# with open(\"fo28MAY2024bhav.csv\", \"wb\") as f:\n",
    "#     f.write(csv_response.content)\n",
    "\n",
    "# # Load the CSV file into a dataframe\n",
    "# df = pd.read_csv(\"fo28MAY2024bhav.csv\")\n",
    "\n",
    "# # Display the dataframe\n",
    "# print(df.head())"
   ]
  },
  {
   "cell_type": "code",
   "execution_count": 3,
   "metadata": {},
   "outputs": [
    {
     "data": {
      "text/html": [
       "<div>\n",
       "<style scoped>\n",
       "    .dataframe tbody tr th:only-of-type {\n",
       "        vertical-align: middle;\n",
       "    }\n",
       "\n",
       "    .dataframe tbody tr th {\n",
       "        vertical-align: top;\n",
       "    }\n",
       "\n",
       "    .dataframe thead th {\n",
       "        text-align: right;\n",
       "    }\n",
       "</style>\n",
       "<table border=\"1\" class=\"dataframe\">\n",
       "  <thead>\n",
       "    <tr style=\"text-align: right;\">\n",
       "      <th></th>\n",
       "      <th>INSTRUMENT TYPE \\n</th>\n",
       "      <th>SYMBOL \\n</th>\n",
       "      <th>EXPIRY DATE \\n</th>\n",
       "      <th>OPTION TYPE \\n</th>\n",
       "      <th>STRIKE \\n</th>\n",
       "      <th>LTP \\n</th>\n",
       "      <th>CHNG \\n</th>\n",
       "      <th>%CHNG \\n</th>\n",
       "      <th>OPEN \\n</th>\n",
       "      <th>HIGH \\n</th>\n",
       "      <th>LOW \\n</th>\n",
       "      <th>VOLUME \\n(Contracts)</th>\n",
       "      <th>VALUE \\n (₹ Crores)</th>\n",
       "      <th>OPEN INTEREST \\n</th>\n",
       "      <th>UNDERLYING VALUE \\n</th>\n",
       "    </tr>\n",
       "  </thead>\n",
       "  <tbody>\n",
       "    <tr>\n",
       "      <th>0</th>\n",
       "      <td>Index Options</td>\n",
       "      <td>NIFTY</td>\n",
       "      <td>30-May-2024</td>\n",
       "      <td>Put</td>\n",
       "      <td>23,000.00</td>\n",
       "      <td>126.10</td>\n",
       "      <td>-19.05</td>\n",
       "      <td>-13.12</td>\n",
       "      <td>120.15</td>\n",
       "      <td>176.80</td>\n",
       "      <td>68.35</td>\n",
       "      <td>54,53,418</td>\n",
       "      <td>1,512.91</td>\n",
       "      <td>2,85,787</td>\n",
       "      <td>22,932.45</td>\n",
       "    </tr>\n",
       "    <tr>\n",
       "      <th>1</th>\n",
       "      <td>Index Options</td>\n",
       "      <td>NIFTY</td>\n",
       "      <td>30-May-2024</td>\n",
       "      <td>Call</td>\n",
       "      <td>23,000.00</td>\n",
       "      <td>127.60</td>\n",
       "      <td>-35.50</td>\n",
       "      <td>-21.77</td>\n",
       "      <td>160.45</td>\n",
       "      <td>249.90</td>\n",
       "      <td>93.75</td>\n",
       "      <td>44,43,301</td>\n",
       "      <td>1,931.28</td>\n",
       "      <td>2,56,190</td>\n",
       "      <td>22,932.45</td>\n",
       "    </tr>\n",
       "    <tr>\n",
       "      <th>2</th>\n",
       "      <td>Index Options</td>\n",
       "      <td>NIFTY</td>\n",
       "      <td>30-May-2024</td>\n",
       "      <td>Call</td>\n",
       "      <td>23,100.00</td>\n",
       "      <td>84.40</td>\n",
       "      <td>-28.30</td>\n",
       "      <td>-25.11</td>\n",
       "      <td>99.95</td>\n",
       "      <td>181.95</td>\n",
       "      <td>58.20</td>\n",
       "      <td>34,66,407</td>\n",
       "      <td>1,133.17</td>\n",
       "      <td>1,95,128</td>\n",
       "      <td>22,932.45</td>\n",
       "    </tr>\n",
       "    <tr>\n",
       "      <th>3</th>\n",
       "      <td>Index Options</td>\n",
       "      <td>NIFTY</td>\n",
       "      <td>30-May-2024</td>\n",
       "      <td>Put</td>\n",
       "      <td>22,900.00</td>\n",
       "      <td>87.15</td>\n",
       "      <td>-19.45</td>\n",
       "      <td>-18.25</td>\n",
       "      <td>97.00</td>\n",
       "      <td>125.90</td>\n",
       "      <td>46.55</td>\n",
       "      <td>30,43,385</td>\n",
       "      <td>611.57</td>\n",
       "      <td>1,53,564</td>\n",
       "      <td>22,932.45</td>\n",
       "    </tr>\n",
       "    <tr>\n",
       "      <th>4</th>\n",
       "      <td>Index Options</td>\n",
       "      <td>NIFTY</td>\n",
       "      <td>30-May-2024</td>\n",
       "      <td>Call</td>\n",
       "      <td>23,200.00</td>\n",
       "      <td>51.00</td>\n",
       "      <td>-23.00</td>\n",
       "      <td>-31.08</td>\n",
       "      <td>70.05</td>\n",
       "      <td>124.75</td>\n",
       "      <td>34.35</td>\n",
       "      <td>28,24,239</td>\n",
       "      <td>590.76</td>\n",
       "      <td>2,07,856</td>\n",
       "      <td>22,932.45</td>\n",
       "    </tr>\n",
       "  </tbody>\n",
       "</table>\n",
       "</div>"
      ],
      "text/plain": [
       "  INSTRUMENT TYPE \\n SYMBOL \\n EXPIRY DATE \\n OPTION TYPE \\n  STRIKE \\n  \\\n",
       "0      Index Options     NIFTY    30-May-2024            Put  23,000.00   \n",
       "1      Index Options     NIFTY    30-May-2024           Call  23,000.00   \n",
       "2      Index Options     NIFTY    30-May-2024           Call  23,100.00   \n",
       "3      Index Options     NIFTY    30-May-2024            Put  22,900.00   \n",
       "4      Index Options     NIFTY    30-May-2024           Call  23,200.00   \n",
       "\n",
       "   LTP \\n CHNG \\n %CHNG \\n OPEN \\n HIGH \\n LOW \\n VOLUME \\n(Contracts)  \\\n",
       "0  126.10  -19.05   -13.12  120.15  176.80  68.35            54,53,418   \n",
       "1  127.60  -35.50   -21.77  160.45  249.90  93.75            44,43,301   \n",
       "2   84.40  -28.30   -25.11   99.95  181.95  58.20            34,66,407   \n",
       "3   87.15  -19.45   -18.25   97.00  125.90  46.55            30,43,385   \n",
       "4   51.00  -23.00   -31.08   70.05  124.75  34.35            28,24,239   \n",
       "\n",
       "  VALUE \\n (₹ Crores) OPEN INTEREST \\n UNDERLYING VALUE \\n  \n",
       "0            1,512.91         2,85,787           22,932.45  \n",
       "1            1,931.28         2,56,190           22,932.45  \n",
       "2            1,133.17         1,95,128           22,932.45  \n",
       "3              611.57         1,53,564           22,932.45  \n",
       "4              590.76         2,07,856           22,932.45  "
      ]
     },
     "execution_count": 3,
     "metadata": {},
     "output_type": "execute_result"
    }
   ],
   "source": [
    "df = pd.read_csv(\"MW-FO-nse50_opt-27-May-2024.csv\")\n",
    "df.head()"
   ]
  },
  {
   "cell_type": "code",
   "execution_count": null,
   "metadata": {},
   "outputs": [],
   "source": [
    "from flask import Flask, render_template\n",
    "import pandas as pd\n",
    "\n",
    "app = Flask(__name__)\n",
    "\n",
    "@app.route('/')\n",
    "def index():\n",
    "    return render_template('index.html', tables=[df.to_html(classes='data')], titles=df.columns.values)\n",
    "\n",
    "if __name__ == '__main__':\n",
    "    app.run(debug=True)"
   ]
  }
 ],
 "metadata": {
  "kernelspec": {
   "display_name": "Python 3",
   "language": "python",
   "name": "python3"
  },
  "language_info": {
   "codemirror_mode": {
    "name": "ipython",
    "version": 3
   },
   "file_extension": ".py",
   "mimetype": "text/x-python",
   "name": "python",
   "nbconvert_exporter": "python",
   "pygments_lexer": "ipython3",
   "version": "3.10.11"
  }
 },
 "nbformat": 4,
 "nbformat_minor": 2
}
